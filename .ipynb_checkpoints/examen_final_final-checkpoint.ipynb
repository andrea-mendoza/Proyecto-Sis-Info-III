{
 "cells": [
  {
   "cell_type": "code",
   "execution_count": 1,
   "metadata": {},
   "outputs": [],
   "source": [
    "#Habilitar intellisense\n",
    "%config IPCompleter.greedy=True"
   ]
  },
  {
   "cell_type": "code",
   "execution_count": 8,
   "metadata": {},
   "outputs": [],
   "source": [
    "import nltk\n",
    "import string\n",
    "import numpy as np\n",
    "import pandas as pd\n",
    "import collections\n",
    "import math\n",
    "import os\n",
    "from bs4 import BeautifulSoup\n",
    "import re\n",
    "from sklearn.model_selection import train_test_split\n",
    "from sklearn.linear_model import LogisticRegression\n",
    "from nltk.stem import WordNetLemmatizer\n",
    "from sklearn.feature_extraction.text import TfidfVectorizer\n",
    "from sklearn.metrics import accuracy_score, confusion_matrix, precision_score, recall_score, f1_score\n",
    "import pickle\n",
    "\n",
    "english_stop_words = set( nltk.corpus.stopwords.words('english') + list(string.punctuation))\n"
   ]
  },
  {
   "cell_type": "code",
   "execution_count": 3,
   "metadata": {},
   "outputs": [],
   "source": [
    "movies_ds = pd.read_csv(os.path.join(\"imdb_dataset.csv\"),encoding = \"ISO-8859-1\")"
   ]
  },
  {
   "cell_type": "code",
   "execution_count": 4,
   "metadata": {},
   "outputs": [],
   "source": [
    "def clean_markups(comment):\n",
    "    soup = BeautifulSoup(comment, \"html.parser\")\n",
    "    comment = soup.get_text()\n",
    "    return comment\n",
    "\n",
    "def clean_special_characters(comment):\n",
    "    comment = re.sub('\\[[^]]*\\]', ' ', comment)\n",
    "    comment = re.sub('[^a-zA-Z]', ' ', comment)\n",
    "    return comment\n",
    "\n",
    "def clean_stop_words(comment):\n",
    "    english_stop_words = set( nltk.corpus.stopwords.words('english') + list(string.punctuation))\n",
    "    comment = [word for word in comment if not word in english_stop_words]\n",
    "    return comment\n",
    "\n",
    "def clean_review(comment):\n",
    "    comment = clean_markups(comment)\n",
    "    comment = clean_special_characters(comment)\n",
    "    return comment\n",
    "\n",
    "def tokenize(comment):\n",
    "    comment = comment.split()\n",
    "    return comment\n",
    "\n",
    "def get_corpus_text(comment):\n",
    "    comment = clean_review(comment)\n",
    "    comment = comment.lower()\n",
    "    comment = tokenize(comment)\n",
    "    comment = clean_stop_words(comment)\n",
    "\n",
    "    #optional\n",
    "    lem = WordNetLemmatizer()\n",
    "    comment = [lem.lemmatize(word) for word in comment]\n",
    "    \n",
    "    comment = ' '.join(comment)\n",
    "    corpus = comment\n",
    "    return corpus"
   ]
  },
  {
   "cell_type": "code",
   "execution_count": 5,
   "metadata": {},
   "outputs": [],
   "source": [
    "X_train, X_test, y_train, y_test = train_test_split(movies_ds['Review'], movies_ds['Label'], test_size=0.3, random_state=42)\n",
    "\n",
    "y_train = (y_train.replace({'pos': 1, 'neg': 0})).values\n",
    "y_test  = (y_test.replace({'pos': 1, 'neg': 0})).values\n",
    "\n",
    "corpus_train = [get_corpus_text(comment) for comment in X_train]\n",
    "corpus_test  = [get_corpus_text(comment) for comment in X_test]\n"
   ]
  },
  {
   "cell_type": "code",
   "execution_count": 6,
   "metadata": {},
   "outputs": [
    {
     "name": "stdout",
     "output_type": "stream",
     "text": [
      "accuracy del clasificador - version 1 : 0.90\n",
      "matriz de confusión del clasificador - version 1: \n",
      " [[6674  883]\n",
      " [ 651 6792]]\n",
      "precision del clasificador - version 1 : 0.88\n",
      "recall del clasificador - version 1 : 0.91\n",
      "f1 del clasificador - version 1 : 0.90\n"
     ]
    }
   ],
   "source": [
    "tfIdfv = TfidfVectorizer(norm='l2')\n",
    "\n",
    "tfIdfv_train= tfIdfv.fit_transform(corpus_train)\n",
    "tfIdfv_test = tfIdfv.transform(corpus_test)\n",
    "\n",
    "clasificador_reg_log = LogisticRegression(random_state=0, solver='liblinear')\n",
    "clasificador_reg_log.fit(tfIdfv_train,y_train)\n",
    "\n",
    "# accuracy\n",
    "print('accuracy del clasificador - version 1 : {0:.2f}'.format(accuracy_score(y_test, clasificador_reg_log.predict(tfIdfv_test))))\n",
    "# confusion matrix\n",
    "print('matriz de confusión del clasificador - version 1: \\n {0}'.format(confusion_matrix(y_test, clasificador_reg_log.predict(tfIdfv_test))))\n",
    "# precision \n",
    "print('precision del clasificador - version 1 : {0:.2f}'.format(precision_score(y_test, clasificador_reg_log.predict(tfIdfv_test))))\n",
    "# recall \n",
    "print('recall del clasificador - version 1 : {0:.2f}'.format(recall_score(y_test, clasificador_reg_log.predict(tfIdfv_test))))\n",
    "# f1\n",
    "print('f1 del clasificador - version 1 : {0:.2f}'.format(f1_score(y_test, clasificador_reg_log.predict(tfIdfv_test))))\n",
    "\n"
   ]
  },
  {
   "cell_type": "code",
   "execution_count": 10,
   "metadata": {},
   "outputs": [],
   "source": [
    "ruta_archivo_clasificador = os.path.join(\"logistic_regression.pkl\")\n",
    "archivo_clasificador = open(ruta_archivo_clasificador, \"wb\")\n",
    "pickle.dump(clasificador_reg_log, archivo_clasificador)\n",
    "archivo_clasificador.close()"
   ]
  }
 ],
 "metadata": {
  "kernelspec": {
   "display_name": "Python 3",
   "language": "python",
   "name": "python3"
  },
  "language_info": {
   "codemirror_mode": {
    "name": "ipython",
    "version": 3
   },
   "file_extension": ".py",
   "mimetype": "text/x-python",
   "name": "python",
   "nbconvert_exporter": "python",
   "pygments_lexer": "ipython3",
   "version": "3.7.4"
  }
 },
 "nbformat": 4,
 "nbformat_minor": 2
}
